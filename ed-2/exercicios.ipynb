{
  "nbformat": 4,
  "nbformat_minor": 0,
  "metadata": {
    "colab": {
      "provenance": []
    },
    "kernelspec": {
      "name": "python3",
      "display_name": "Python 3"
    },
    "language_info": {
      "name": "python"
    }
  },
  "cells": [
    {
      "cell_type": "code",
      "execution_count": 6,
      "metadata": {
        "id": "6vdG5bXCaU4a"
      },
      "outputs": [],
      "source": [
        "from dataclasses import dataclass\n",
        "import random"
      ]
    },
    {
      "cell_type": "code",
      "source": [
        "@dataclass\n",
        "class Aluno:\n",
        "    nome: str\n",
        "    matricula: int\n",
        "    notas: list\n",
        "\n",
        "    def get_media(self):\n",
        "        return sum(self.notas) / len(self.notas)"
      ],
      "metadata": {
        "id": "ZLbT-FGyeWQi"
      },
      "execution_count": 7,
      "outputs": []
    },
    {
      "cell_type": "code",
      "source": [
        "# Criar uma lista com 10 alunos e atribuir notas aleatórias entre 0 e 10\n",
        "alunos = []\n",
        "for i in range(1, 11):\n",
        "    nome = f\"Aluno {i}\"\n",
        "    matricula = i\n",
        "    notas = [random.randint(0, 10) for _ in range(4)]  # 4 notas aleatórias\n",
        "    aluno = Aluno(nome, matricula, notas)\n",
        "    alunos.append(aluno)"
      ],
      "metadata": {
        "id": "RcNLxUp9fslo"
      },
      "execution_count": 8,
      "outputs": []
    },
    {
      "cell_type": "code",
      "source": [
        "# Imprimir o nome e média dos alunos em ordem alfabética\n",
        "print(\"Alunos em ordem alfabética:\")\n",
        "alunos_ordenados = sorted(alunos, key=lambda aluno: aluno.nome)\n",
        "for aluno in alunos_ordenados:\n",
        "    print(f\"{aluno.nome}: {aluno.get_media()}\")"
      ],
      "metadata": {
        "colab": {
          "base_uri": "https://localhost:8080/"
        },
        "id": "MepmXm1W3bzG",
        "outputId": "24e1a3a3-68b1-4c59-dce0-540b6108f78a"
      },
      "execution_count": 9,
      "outputs": [
        {
          "output_type": "stream",
          "name": "stdout",
          "text": [
            "Alunos em ordem alfabética:\n",
            "Aluno 1: 4.5\n",
            "Aluno 10: 8.5\n",
            "Aluno 2: 1.75\n",
            "Aluno 3: 5.25\n",
            "Aluno 4: 6.0\n",
            "Aluno 5: 5.5\n",
            "Aluno 6: 6.5\n",
            "Aluno 7: 3.75\n",
            "Aluno 8: 2.25\n",
            "Aluno 9: 4.75\n"
          ]
        }
      ]
    },
    {
      "cell_type": "code",
      "source": [
        "# Imprimir o nome e a média dos alunos em ordem decrescente de média\n",
        "print(\"\\nAlunos em ordem decrescente de média:\")\n",
        "alunos_ordenados = sorted(alunos, key=lambda aluno: aluno.get_media(), reverse=True)\n",
        "for aluno in alunos_ordenados:\n",
        "    print(f\"{aluno.nome}: {aluno.get_media()}\")"
      ],
      "metadata": {
        "colab": {
          "base_uri": "https://localhost:8080/"
        },
        "id": "uxsEg7ER3dR0",
        "outputId": "faa0c3e5-2865-4fc2-fafa-8cbf353d46c4"
      },
      "execution_count": 10,
      "outputs": [
        {
          "output_type": "stream",
          "name": "stdout",
          "text": [
            "\n",
            "Alunos em ordem decrescente de média:\n",
            "Aluno 10: 8.5\n",
            "Aluno 6: 6.5\n",
            "Aluno 4: 6.0\n",
            "Aluno 5: 5.5\n",
            "Aluno 3: 5.25\n",
            "Aluno 9: 4.75\n",
            "Aluno 1: 4.5\n",
            "Aluno 7: 3.75\n",
            "Aluno 8: 2.25\n",
            "Aluno 2: 1.75\n"
          ]
        }
      ]
    },
    {
      "cell_type": "code",
      "source": [
        "# Imprimir os 2 alunos com maior média e os 2 alunos com menor média\n",
        "print(\"\\nOs 2 alunos com maior média:\")\n",
        "alunos_maior_media = alunos_ordenados[:2]\n",
        "for aluno in alunos_maior_media:\n",
        "    print(f\"{aluno.nome}: {aluno.get_media()}\")"
      ],
      "metadata": {
        "colab": {
          "base_uri": "https://localhost:8080/"
        },
        "id": "Poag0DQR3dYs",
        "outputId": "6a362853-a3e1-4603-9886-af40c058ca2b"
      },
      "execution_count": 11,
      "outputs": [
        {
          "output_type": "stream",
          "name": "stdout",
          "text": [
            "\n",
            "Os 2 alunos com maior média:\n",
            "Aluno 10: 8.5\n",
            "Aluno 6: 6.5\n"
          ]
        }
      ]
    },
    {
      "cell_type": "code",
      "source": [
        "print(\"\\nOs 2 alunos com menor média:\")\n",
        "alunos_menor_media = alunos_ordenados[-2:]\n",
        "for aluno in alunos_menor_media:\n",
        "    print(f\"{aluno.nome}: {aluno.get_media()}\")"
      ],
      "metadata": {
        "colab": {
          "base_uri": "https://localhost:8080/"
        },
        "id": "hR_Us3Bp3dec",
        "outputId": "ede622a0-50ce-4c67-f1ad-9d4883c1fe73"
      },
      "execution_count": 12,
      "outputs": [
        {
          "output_type": "stream",
          "name": "stdout",
          "text": [
            "\n",
            "Os 2 alunos com menor média:\n",
            "Aluno 8: 2.25\n",
            "Aluno 2: 1.75\n"
          ]
        }
      ]
    },
    {
      "cell_type": "code",
      "source": [
        "# Calcular a média da turma\n",
        "notas_turma = [aluno.get_media() for aluno in alunos]\n",
        "media_turma = sum(notas_turma) / len(notas_turma)\n",
        "print(f\"\\nMédia da turma: {media_turma}\")"
      ],
      "metadata": {
        "colab": {
          "base_uri": "https://localhost:8080/"
        },
        "id": "ERhCk74v3hVE",
        "outputId": "11bb3169-7a0f-4995-c124-978de83fa05e"
      },
      "execution_count": 13,
      "outputs": [
        {
          "output_type": "stream",
          "name": "stdout",
          "text": [
            "\n",
            "Média da turma: 4.875\n"
          ]
        }
      ]
    },
    {
      "cell_type": "code",
      "source": [
        "# Imprimir todos os alunos que ficaram abaixo da média da turma\n",
        "print(\"\\nAlunos abaixo da média da turma:\")\n",
        "alunos_abaixo_media = [aluno for aluno in alunos if aluno.get_media() < media_turma]\n",
        "for aluno in alunos_abaixo_media:\n",
        "    print(f\"{aluno.nome}: {aluno.get_media()}\")"
      ],
      "metadata": {
        "colab": {
          "base_uri": "https://localhost:8080/"
        },
        "id": "KH9AN7eg3hXV",
        "outputId": "8cd4d64a-6f57-46f0-e186-94be48abfb9f"
      },
      "execution_count": 14,
      "outputs": [
        {
          "output_type": "stream",
          "name": "stdout",
          "text": [
            "\n",
            "Alunos abaixo da média da turma:\n",
            "Aluno 1: 4.5\n",
            "Aluno 2: 1.75\n",
            "Aluno 7: 3.75\n",
            "Aluno 8: 2.25\n",
            "Aluno 9: 4.75\n"
          ]
        }
      ]
    },
    {
      "cell_type": "code",
      "source": [],
      "metadata": {
        "id": "muNoYNjn3hZM"
      },
      "execution_count": 14,
      "outputs": []
    },
    {
      "cell_type": "code",
      "source": [],
      "metadata": {
        "id": "Af3b9yFr3hbO"
      },
      "execution_count": 14,
      "outputs": []
    },
    {
      "cell_type": "code",
      "source": [
        "\n",
        "\n",
        "\n",
        "\n",
        "\n",
        "\n",
        "\n",
        "\n"
      ],
      "metadata": {
        "id": "K3Pe71Awgtjv"
      },
      "execution_count": 14,
      "outputs": []
    }
  ]
}