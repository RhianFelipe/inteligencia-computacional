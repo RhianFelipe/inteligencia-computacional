{
  "cells": [
    {
      "cell_type": "code",
      "source": [
        "import random\n"
      ],
      "metadata": {
        "id": "179tH2M61mMW"
      },
      "id": "179tH2M61mMW",
      "execution_count": 14,
      "outputs": []
    },
    {
      "cell_type": "code",
      "source": [
        "# Configurações do problema\n",
        "num_cartoes = 10\n",
        "target_soma = 36\n",
        "target_produto = 360"
      ],
      "metadata": {
        "id": "Z8kxfDMz1mJ7"
      },
      "id": "Z8kxfDMz1mJ7",
      "execution_count": 15,
      "outputs": []
    },
    {
      "cell_type": "code",
      "source": [
        "\n",
        "# Função de aptidão\n",
        "def aptidao(individuo):\n",
        "    pilha1 = [cartoes[i] for i in range(num_cartoes) if individuo[i] == 1]\n",
        "    pilha2 = [cartoes[i] for i in range(num_cartoes) if individuo[i] == 0]\n",
        "\n",
        "    soma_pilha1 = sum(pilha1)\n",
        "    produto_pilha2 = 1\n",
        "    for cartao in pilha2:\n",
        "        produto_pilha2 *= cartao\n",
        "\n",
        "    # Quanto mais próximo do objetivo, melhor\n",
        "    aptidao_soma = abs(soma_pilha1 - target_soma)\n",
        "    aptidao_produto = abs(produto_pilha2 - target_produto)\n",
        "\n",
        "    return aptidao_soma + aptidao_produto\n",
        "\n",
        "# Função de cruzamento (one-point crossover)\n",
        "def cruzamento(individuo1, individuo2):\n",
        "    ponto_corte = random.randint(1, num_cartoes - 1)\n",
        "    filho1 = individuo1[:ponto_corte] + individuo2[ponto_corte:]\n",
        "    filho2 = individuo2[:ponto_corte] + individuo1[ponto_corte:]\n",
        "    return filho1, filho2\n",
        "\n"
      ],
      "metadata": {
        "id": "9iHWVXKm1mH0"
      },
      "id": "9iHWVXKm1mH0",
      "execution_count": 16,
      "outputs": []
    },
    {
      "cell_type": "code",
      "source": [
        "\n",
        "\n",
        "# Função de mutação (inverter um bit)\n",
        "def mutacao(individuo):\n",
        "    ponto_mutacao = random.randint(0, num_cartoes - 1)\n",
        "    individuo[ponto_mutacao] = 1 - individuo[ponto_mutacao]\n",
        "\n",
        "# Parâmetros do AG\n",
        "tamanho_populacao = 100\n",
        "taxa_mutacao = 0.1\n",
        "geracoes = 1000\n",
        "\n",
        "# Geração da população inicial\n",
        "populacao = [random.choices([0, 1], k=num_cartoes) for _ in range(tamanho_populacao)]\n",
        "cartoes = list(range(1, num_cartoes + 1))\n",
        "\n",
        "# Execução do AG\n",
        "for geracao in range(geracoes):\n",
        "    populacao = sorted(populacao, key=aptidao)\n",
        "    melhor_individuo = populacao[0]\n",
        "    melhor_aptidao = aptidao(melhor_individuo)\n",
        "\n",
        "    if melhor_aptidao == 0:\n",
        "        break\n",
        "\n",
        "    nova_populacao = [melhor_individuo]\n",
        "\n",
        "    while len(nova_populacao) < tamanho_populacao:\n",
        "        pai1, pai2 = random.choices(populacao[:10], k=2)\n",
        "        filho1, filho2 = cruzamento(pai1, pai2)\n",
        "\n",
        "        if random.random() < taxa_mutacao:\n",
        "            mutacao(filho1)\n",
        "        if random.random() < taxa_mutacao:\n",
        "            mutacao(filho2)\n",
        "\n",
        "        nova_populacao.extend([filho1, filho2])\n",
        "\n",
        "    populacao = nova_populacao\n",
        "\n",
        "# Resultados\n",
        "pilha1 = [cartoes[i] for i in range(num_cartoes) if melhor_individuo[i] == 1]\n",
        "pilha2 = [cartoes[i] for i in range(num_cartoes) if melhor_individuo[i] == 0]\n",
        "\n",
        "print(\"Pilha 1:\", pilha1)\n",
        "print(\"Pilha 2:\", pilha2)\n",
        "print(\"Soma da Pilha 1:\", sum(pilha1))\n",
        "print(\"Produto da Pilha 2:\", pilha2)\n"
      ],
      "metadata": {
        "colab": {
          "base_uri": "https://localhost:8080/"
        },
        "id": "wObW3lZJ9vAC",
        "outputId": "13df04b1-a9ae-4265-d378-650a11a0229f"
      },
      "id": "wObW3lZJ9vAC",
      "execution_count": 17,
      "outputs": [
        {
          "output_type": "stream",
          "name": "stdout",
          "text": [
            "Pilha 1: [2, 7, 8, 9, 10]\n",
            "Pilha 2: [1, 3, 4, 5, 6]\n",
            "Soma da Pilha 1: 36\n",
            "Produto da Pilha 2: [1, 3, 4, 5, 6]\n"
          ]
        }
      ]
    },
    {
      "cell_type": "code",
      "source": [],
      "metadata": {
        "id": "PB1mujK91jf0"
      },
      "id": "PB1mujK91jf0",
      "execution_count": 17,
      "outputs": []
    },
    {
      "cell_type": "code",
      "source": [
        "Foi baseado em 5 testes\n",
        "\n",
        "Teste 1:\n",
        "Soma da Pilha 1: 36\n",
        "Produto da Pilha 2: 1 * 3 * 4 * 5 * 6 = 360\n",
        "Diferença total: |36 - 36| + |360 - 360| = 0\n",
        "\n",
        "Teste 2:\n",
        "Soma da Pilha 1: 33\n",
        "Produto da Pilha 2: 6 * 7 * 9 = 378\n",
        "Diferença total: |36 - 33| + |360 - 378| = 3 + 18 = 21\n",
        "\n",
        "Teste 3:\n",
        "Soma da Pilha 1: 33\n",
        "Produto da Pilha 2: 5 * 8 * 9 = 360\n",
        "Diferença total: |36 - 33| + |360 - 360| = 3 + 0 = 3\n",
        "\n",
        "Teste 4:\n",
        "Soma da Pilha 1: 33\n",
        "Produto da Pilha 2: 5 * 7 * 10 = 350\n",
        "Diferença total: |36 - 33| + |360 - 350| = 3 + 10 = 13\n",
        "\n",
        "Teste 5:\n",
        "Soma da Pilha 1: 34\n",
        "Produto da Pilha 2: 2 * 3 * 6 * 10 = 360\n",
        "Diferença total: |36 - 34| + |360 - 360| = 2 + 0 = 2\n",
        "\n",
        "\n",
        "O teste 1 teve desempenho melhor, chegou quase no melhor resultado possivel"
      ],
      "metadata": {
        "id": "zwZVPLvF9u9-",
        "colab": {
          "base_uri": "https://localhost:8080/",
          "height": 140
        },
        "outputId": "eff61793-a796-437b-f21b-605f7a414a1e"
      },
      "id": "zwZVPLvF9u9-",
      "execution_count": 18,
      "outputs": [
        {
          "output_type": "error",
          "ename": "SyntaxError",
          "evalue": "ignored",
          "traceback": [
            "\u001b[0;36m  File \u001b[0;32m\"<ipython-input-18-3c3d8c6fe613>\"\u001b[0;36m, line \u001b[0;32m1\u001b[0m\n\u001b[0;31m    Foi baseado em 5 testes\u001b[0m\n\u001b[0m        ^\u001b[0m\n\u001b[0;31mSyntaxError\u001b[0m\u001b[0;31m:\u001b[0m invalid syntax\n"
          ]
        }
      ]
    },
    {
      "cell_type": "code",
      "source": [],
      "metadata": {
        "id": "9Jgj7OnQyy36"
      },
      "id": "9Jgj7OnQyy36",
      "execution_count": null,
      "outputs": []
    }
  ],
  "metadata": {
    "kernelspec": {
      "display_name": "Python 3 (ipykernel)",
      "language": "python",
      "name": "python3"
    },
    "language_info": {
      "codemirror_mode": {
        "name": "ipython",
        "version": 3
      },
      "file_extension": ".py",
      "mimetype": "text/x-python",
      "name": "python",
      "nbconvert_exporter": "python",
      "pygments_lexer": "ipython3",
      "version": "3.11.5"
    },
    "colab": {
      "provenance": []
    }
  },
  "nbformat": 4,
  "nbformat_minor": 5
}