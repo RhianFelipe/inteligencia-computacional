{
  "nbformat": 4,
  "nbformat_minor": 0,
  "metadata": {
    "colab": {
      "provenance": []
    },
    "kernelspec": {
      "name": "python3",
      "display_name": "Python 3"
    },
    "language_info": {
      "name": "python"
    }
  },
  "cells": [
    {
      "cell_type": "code",
      "execution_count": 1,
      "metadata": {
        "id": "fz7aoOcB4kkn"
      },
      "outputs": [],
      "source": [
        "import numpy as np\n",
        "\n",
        "def funcao_objetivo(x, y):\n",
        "    return -(x**2/2) - (y**2/2) + x - 2*y + np.cos(x*y)\n"
      ]
    },
    {
      "cell_type": "code",
      "source": [
        "def pso(funcao_objetivo, num_particulas, num_dimensoes, num_iteracoes, limites):\n",
        "    # Inicialização dos parâmetros do PSO\n",
        "    peso_inercia = 0.5\n",
        "    coeficiente_pessoal = 1.5\n",
        "    coeficiente_social = 1.5\n",
        "\n",
        "    # Inicialização das partículas\n",
        "    particulas = np.random.uniform(limites[0], limites[1], size=(num_particulas, num_dimensoes))\n",
        "    velocidades = np.random.uniform(-1, 1, size=(num_particulas, num_dimensoes))\n",
        "    melhores_posicoes_pessoais = particulas.copy()\n",
        "    melhores_valores_pessoais = np.array([funcao_objetivo(x[0], x[1]) for x in particulas])\n",
        "    melhor_posicao_global = particulas[np.argmax(melhores_valores_pessoais)]\n",
        "    melhor_valor_global = np.max(melhores_valores_pessoais)\n",
        "\n",
        "    # Execução do PSO\n",
        "    for iteracao in range(num_iteracoes):\n",
        "        for i in range(num_particulas):\n",
        "            # Atualização da velocidade\n",
        "            termo_inercia = peso_inercia * velocidades[i]\n",
        "            termo_pessoal = coeficiente_pessoal * np.random.rand() * (melhores_posicoes_pessoais[i] - particulas[i])\n",
        "            termo_social = coeficiente_social * np.random.rand() * (melhor_posicao_global - particulas[i])\n",
        "            velocidades[i] = termo_inercia + termo_pessoal + termo_social\n",
        "\n",
        "            # Atualização da posição\n",
        "            particulas[i] = particulas[i] + velocidades[i]\n",
        "\n",
        "            # Verificação dos limites do domínio\n",
        "            particulas[i] = np.clip(particulas[i], limites[0], limites[1])\n",
        "\n",
        "            # Avaliação da função objetivo\n",
        "            valor_atual = funcao_objetivo(particulas[i, 0], particulas[i, 1])\n",
        "\n",
        "            # Atualização da melhor posição pessoal\n",
        "            if valor_atual > melhores_valores_pessoais[i]:\n",
        "                melhores_valores_pessoais[i] = valor_atual\n",
        "                melhores_posicoes_pessoais[i] = particulas[i]\n",
        "\n",
        "                # Atualização da melhor posição global\n",
        "                if valor_atual > melhor_valor_global:\n",
        "                    melhor_valor_global = valor_atual\n",
        "                    melhor_posicao_global = particulas[i]\n",
        "\n",
        "    return melhor_posicao_global, melhor_valor_global"
      ],
      "metadata": {
        "id": "BoanXzTP4pZT"
      },
      "execution_count": 2,
      "outputs": []
    },
    {
      "cell_type": "code",
      "source": [
        "# Configurações do PSO\n",
        "num_particulas = 30\n",
        "num_dimensoes = 2\n",
        "num_iteracoes = 100\n",
        "limites = (-5, 5)\n",
        "\n",
        "# Execução do PSO\n",
        "melhor_posicao, melhor_valor = pso(funcao_objetivo, num_particulas, num_dimensoes, num_iteracoes, limites)\n",
        "\n",
        "# Resultados\n",
        "print(f\"Melhor posição encontrada: {np.round(melhor_posicao, 4)}\")\n",
        "print(f\"Melhor valor encontrado: {np.round(melhor_valor, 4)} \")"
      ],
      "metadata": {
        "colab": {
          "base_uri": "https://localhost:8080/"
        },
        "id": "N-ZoAzPC4pkb",
        "outputId": "f7fd7257-fd0e-4ded-e141-8e4e6a39cec3"
      },
      "execution_count": 7,
      "outputs": [
        {
          "output_type": "stream",
          "name": "stdout",
          "text": [
            "Melhor posição encontrada: [ 0.2202 -1.9101]\n",
            "Melhor valor encontrado: 3.1048 \n"
          ]
        }
      ]
    }
  ]
}