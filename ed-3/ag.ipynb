{
  "cells": [
    {
      "cell_type": "code",
      "source": [
        "# Importação das bibliotecas necessárias\n",
        "from dataclasses import dataclass\n",
        "from typing import Callable, List\n",
        "from random import randint, sample, random"
      ],
      "metadata": {
        "id": "UAxrB-pR9vCS"
      },
      "id": "UAxrB-pR9vCS",
      "execution_count": 19,
      "outputs": []
    },
    {
      "cell_type": "code",
      "source": [
        "\n",
        "# Definição da classe Cromossomo para representar os indivíduos\n",
        "@dataclass\n",
        "@dataclass\n",
        "class Cromossomo:\n",
        "    dados: List[int]\n",
        "    fitness: float = 0\n",
        "\n",
        "@dataclass\n",
        "class Config:\n",
        "    tam_cromossomo: int\n",
        "    tam_populacao: int\n",
        "    fitness: Callable[[Cromossomo], float]\n",
        "    tam_torneio: int\n",
        "    taxa_mutacao: float\n",
        "    max_geracoes: int\n",
        "    max_estagnacao: int"
      ],
      "metadata": {
        "id": "wObW3lZJ9vAC"
      },
      "id": "wObW3lZJ9vAC",
      "execution_count": 20,
      "outputs": []
    },
    {
      "cell_type": "code",
      "source": [
        "# Função para inicializar a população com cromossomos aleatórios\n",
        "def inicializar_populacao(tam_populacao, tam_cromossomo):\n",
        "    populacao = []\n",
        "    for _ in range(tam_populacao):\n",
        "        cromossomo = Cromossomo([randint(0, 1) for _ in range(tam_cromossomo)])\n",
        "        populacao.append(cromossomo)\n",
        "    return populacao\n",
        "\n",
        "\n",
        "# Função de seleção por torneio\n",
        "def torneio(populacao, tam_torneio):\n",
        "    casais = []\n",
        "\n",
        "    for i in range(len(populacao) // 2):\n",
        "        torneio1 = sample(populacao, tam_torneio)\n",
        "        pai1 = max(torneio1, key=lambda x: x.fitness)\n",
        "\n",
        "        torneio2 = sample(populacao, tam_torneio)\n",
        "        pai2 = max(torneio2, key=lambda x: x.fitness)\n",
        "\n",
        "        casais.append((pai1, pai2))\n",
        "\n",
        "    return casais\n",
        "# Função de crossover com um ponto de corte\n",
        "def crossover_1_corte(casais):\n",
        "    filhos = []\n",
        "\n",
        "    for par in casais:\n",
        "        pai1 = par[0].dados\n",
        "        pai2 = par[1].dados\n",
        "\n",
        "        corte = randint(1, len(pai1) - 1)\n",
        "\n",
        "        filho1 = pai1[:corte] + pai2[corte:]\n",
        "        filho2 = pai2[:corte] + pai1[corte:]\n",
        "\n",
        "        filhos.append(Cromossomo(filho1))\n",
        "        filhos.append(Cromossomo(filho2))\n",
        "\n",
        "    return filhos\n",
        "\n",
        "def mutacao(cromossomos, taxa_mutacao):\n",
        "    for cromossomo in cromossomos:\n",
        "        for i, gene in enumerate(cromossomo.dados):\n",
        "            if random() < taxa_mutacao:\n",
        "                cromossomo.dados[i] = 1 - gene\n",
        "\n",
        "def elitismo(populacao):\n",
        "    populacao.sort(key=lambda x: x.fitness, reverse=True)\n",
        "    return populacao[:len(populacao) // 2]"
      ],
      "metadata": {
        "id": "zwZVPLvF9u9-"
      },
      "id": "zwZVPLvF9u9-",
      "execution_count": 21,
      "outputs": []
    },
    {
      "cell_type": "code",
      "source": [
        "# Função principal do Algoritmo Genético\n",
        "\n",
        "def algoritmo_genetico(config):\n",
        "    t = 0\n",
        "    P = inicializar_populacao(config.tam_populacao, config.tam_cromossomo)\n",
        "    melhor_individuo = max(P, key=lambda x: x.fitness)\n",
        "    contagem_estagnacao = 0\n",
        "\n",
        "    while t < config.max_geracoes and contagem_estagnacao < config.max_estagnacao:\n",
        "        for cromossomo in P:\n",
        "            cromossomo.fitness = config.fitness(cromossomo)\n",
        "\n",
        "        pais = torneio(P, config.tam_torneio)\n",
        "        filhos = crossover_1_corte(pais)\n",
        "        mutacao(filhos, config.taxa_mutacao)\n",
        "        for filho in filhos:\n",
        "            filho.fitness = config.fitness(filho)\n",
        "\n",
        "        P = elitismo(P + filhos)\n",
        "\n",
        "        melhor_atual = max(P, key=lambda x: x.fitness)\n",
        "\n",
        "        if melhor_atual.fitness > melhor_individuo.fitness:\n",
        "            melhor_individuo = melhor_atual\n",
        "            contagem_estagnacao = 0\n",
        "        else:\n",
        "            contagem_estagnacao += 1\n",
        "\n",
        "        t += 1\n",
        "\n",
        "    return melhor_individuo"
      ],
      "metadata": {
        "id": "VwcxCJII9u7x"
      },
      "id": "VwcxCJII9u7x",
      "execution_count": 22,
      "outputs": []
    },
    {
      "cell_type": "code",
      "source": [
        "# Função de avaliação do problema: Maximizar a quantidade de 1s no cromossomo\n",
        "def maximizar_1s(cromossomo):\n",
        "    return sum(cromossomo.dados)\n",
        "\n",
        "# Parâmetros do AG\n",
        "config = Config(\n",
        "    tam_cromossomo=100,\n",
        "    tam_populacao=100,\n",
        "    fitness=maximizar_1s,\n",
        "    tam_torneio=10,\n",
        "    taxa_mutacao=0.01,\n",
        "    max_geracoes=1000,\n",
        "    max_estagnacao=100\n",
        ")\n",
        "\n",
        "# Execução do AG\n",
        "melhor_solucao = algoritmo_genetico(config)\n",
        "print(\"Melhor solução encontrada:\", melhor_solucao.dados)\n",
        "print(\"Valor do fitness da melhor solução:\", melhor_solucao.fitness)"
      ],
      "metadata": {
        "colab": {
          "base_uri": "https://localhost:8080/"
        },
        "id": "b4Np_nnV9u5v",
        "outputId": "cd03ce7e-de02-4132-87a7-376805699b43"
      },
      "id": "b4Np_nnV9u5v",
      "execution_count": 23,
      "outputs": [
        {
          "output_type": "stream",
          "name": "stdout",
          "text": [
            "Melhor solução encontrada: [1, 1, 1, 1, 1, 1, 1, 1, 1, 1, 1, 1, 1, 1, 1, 1, 1, 1, 1, 1, 1, 1, 1, 1, 1, 1, 1, 1, 1, 1, 1, 1, 1, 1, 1, 1, 1, 1, 1, 1, 1, 1, 1, 1, 1, 1, 1, 1, 1, 1, 1, 1, 1, 1, 1, 1, 1, 1, 1, 1, 1, 1, 1, 1, 1, 1, 1, 1, 1, 1, 1, 1, 1, 1, 1, 1, 1, 1, 1, 1, 1, 1, 1, 1, 1, 1, 1, 1, 1, 1, 1, 1, 1, 1, 1, 1, 1, 1, 1, 1]\n",
            "Valor do fitness da melhor solução: 100\n"
          ]
        }
      ]
    }
  ],
  "metadata": {
    "kernelspec": {
      "display_name": "Python 3 (ipykernel)",
      "language": "python",
      "name": "python3"
    },
    "language_info": {
      "codemirror_mode": {
        "name": "ipython",
        "version": 3
      },
      "file_extension": ".py",
      "mimetype": "text/x-python",
      "name": "python",
      "nbconvert_exporter": "python",
      "pygments_lexer": "ipython3",
      "version": "3.11.5"
    },
    "colab": {
      "provenance": []
    }
  },
  "nbformat": 4,
  "nbformat_minor": 5
}