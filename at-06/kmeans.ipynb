{
  "nbformat": 4,
  "nbformat_minor": 0,
  "metadata": {
    "colab": {
      "provenance": []
    },
    "kernelspec": {
      "name": "python3",
      "display_name": "Python 3"
    },
    "language_info": {
      "name": "python"
    }
  },
  "cells": [
    {
      "cell_type": "code",
      "execution_count": 27,
      "metadata": {
        "id": "DvfWw1i_gken",
        "colab": {
          "base_uri": "https://localhost:8080/"
        },
        "outputId": "a04742ed-2ac5-4b75-e897-b5d395f0df41"
      },
      "outputs": [
        {
          "output_type": "stream",
          "name": "stdout",
          "text": [
            "Acurácia do Perceptron nos dados de teste: 0.50\n"
          ]
        }
      ],
      "source": [
        "from sklearn.linear_model import Perceptron\n",
        "from sklearn.model_selection import train_test_split\n",
        "\n",
        "# Dados de entrada: Temperatura e Umidade\n",
        "X = [\n",
        "    [10, 20], [8, 13], [6, 15],\n",
        "    [5, 11], [20, 26], [22, 26],\n",
        "    [23, 27], [18, 23]\n",
        "]\n",
        "\n",
        "# Dados de saída: Flor (0 ou 1)\n",
        "y = [1, 0, 1, 1, 0, 0, 1, 0]\n",
        "\n",
        "# Dividindo os dados em conjuntos de treino e teste (80% treino, 20% teste)\n",
        "X_train, X_test, y_train, y_test = train_test_split(X, y, test_size=0.2, random_state=42)\n",
        "\n",
        "# Criando e treinando o Perceptron\n",
        "perceptron = Perceptron(random_state=42)\n",
        "perceptron.fit(X_train, y_train)\n",
        "\n",
        "# Verificando a acurácia do modelo nos dados de teste\n",
        "accuracy = perceptron.score(X_test, y_test)\n",
        "\n",
        "print(f\"Acurácia do Perceptron nos dados de teste: {accuracy:.2f}\")\n"
      ]
    }
  ]
}